{
 "cells": [
  {
   "cell_type": "code",
   "execution_count": 41,
   "id": "021c9323",
   "metadata": {},
   "outputs": [],
   "source": [
    "import os \n",
    "import pandas as pd \n",
    "import numpy as np\n",
    "import glob\n",
    "from pandas.io.excel import ExcelWriter\n"
   ]
  },
  {
   "cell_type": "code",
   "execution_count": 62,
   "id": "01a1b358",
   "metadata": {},
   "outputs": [],
   "source": [
    "#读取一个文件夹里面的CSV文件，并且把所以文件合并成一个，筛选出有用的列\n",
    "df_all = pd.DataFrame()\n",
    "useful_cols = ['Date', 'Time', 'SerialNum', 'TestDesc', 'PassFail', 'ResValue', 'ResMin', 'ResMax', \n",
    "            'SetValue1','SetValue2', 'SetValue4','SetValue5']\n",
    "test_list = [\"VSG Power Accuracy High Outp\",\"VSG Power Accuracy Low\", \"VSA Power Accuracy\"]\n",
    "\n",
    "for i in glob.glob('D:\\CertData_collect\\Test python\\IQXL02939_20140503\\*.csv', recursive=True):\n",
    "    df = pd.read_csv(i, low_memory=False, parse_dates=[['Date', 'Time']], usecols=useful_cols)\n",
    "    df_all = pd.concat([df_all,df], ignore_index=True) #合并所有CSV成一个，筛选出有用的列\n",
    "    df_all.to_excel(\"2938.xlsx\" ,sheet_name=\"sheet1\", index=False)\n",
    "\n",
    "    temp = df_all.loc[(data['SerialNum']=='IQXL02939') & (data[\"TestDesc\"].isin(test_list)),:] #筛选出需要的VSA VSG\n",
    "    #temp = df_all.loc[['SerialNum']=='IQXL02939' & ['TestDesc'].isin(test_list),:]\n",
    "temp.to_excel(\"2939.xlsx\" ,sheet_name=\"sheet1\", index=False)\n",
    "\n"
   ]
  },
  {
   "cell_type": "code",
   "execution_count": null,
   "id": "c5dcb99d",
   "metadata": {},
   "outputs": [],
   "source": []
  }
 ],
 "metadata": {
  "kernelspec": {
   "display_name": "Python 3 (ipykernel)",
   "language": "python",
   "name": "python3"
  },
  "language_info": {
   "codemirror_mode": {
    "name": "ipython",
    "version": 3
   },
   "file_extension": ".py",
   "mimetype": "text/x-python",
   "name": "python",
   "nbconvert_exporter": "python",
   "pygments_lexer": "ipython3",
   "version": "3.9.12"
  }
 },
 "nbformat": 4,
 "nbformat_minor": 5
}
