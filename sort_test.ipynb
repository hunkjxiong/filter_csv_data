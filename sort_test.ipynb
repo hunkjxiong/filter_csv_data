{
 "cells": [
  {
   "cell_type": "code",
   "execution_count": 21,
   "id": "8b93606d",
   "metadata": {},
   "outputs": [],
   "source": [
    "import pandas as pd\n",
    "import os \n"
   ]
  },
  {
   "cell_type": "code",
   "execution_count": 23,
   "id": "7967ad20",
   "metadata": {},
   "outputs": [],
   "source": [
    "sort1=pd.DataFrame()\n",
    "file = pd.read_excel(r\"D:\\CertData_collect\\Test python\\2939_sort_soure_vsa.xlsx\",sheet_name=\"sheet1\")\n",
    "sort1=file.sort_values([\"TestDesc\",\"SetValue1\",\"SetValue0\",\"SetValue4\"],ascending=[True,True,True,True])\n",
    "#vsa 的setvalue is 1-0-4, vsg is 2-0-4\n",
    "sort1.to_excel(\"2939sort2.xlsx\",index=False)\n",
    "#to_excel(\"2939.xlsx\" ,sheet_name=\"sheet1\", index=False)"
   ]
  },
  {
   "cell_type": "code",
   "execution_count": null,
   "id": "b79f58eb",
   "metadata": {},
   "outputs": [],
   "source": []
  }
 ],
 "metadata": {
  "kernelspec": {
   "display_name": "Python 3 (ipykernel)",
   "language": "python",
   "name": "python3"
  },
  "language_info": {
   "codemirror_mode": {
    "name": "ipython",
    "version": 3
   },
   "file_extension": ".py",
   "mimetype": "text/x-python",
   "name": "python",
   "nbconvert_exporter": "python",
   "pygments_lexer": "ipython3",
   "version": "3.9.12"
  }
 },
 "nbformat": 4,
 "nbformat_minor": 5
}
